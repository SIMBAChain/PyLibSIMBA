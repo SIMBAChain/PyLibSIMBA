{
 "cells": [
  {
   "cell_type": "code",
   "execution_count": 1,
   "metadata": {},
   "outputs": [],
   "source": [
    "import pylibsimba"
   ]
  },
  {
   "cell_type": "code",
   "execution_count": 2,
   "metadata": {},
   "outputs": [],
   "source": [
    "from pylibsimba.wallet import Wallet\n"
   ]
  },
  {
   "cell_type": "code",
   "execution_count": 3,
   "metadata": {},
   "outputs": [
    {
     "name": "stdout",
     "output_type": "stream",
     "text": [
      "0xc341e8e093f44d9149e20f39317da93def0dd02b\n"
     ]
    }
   ],
   "source": [
    "wallet = Wallet(None)\n",
    "wallet.generate_wallet('test1234')\n",
    "addr = wallet.get_address()\n",
    "print(addr)"
   ]
  },
  {
   "cell_type": "code",
   "execution_count": 4,
   "metadata": {},
   "outputs": [],
   "source": [
    "from pylibsimba import get_simba_instance\n"
   ]
  },
  {
   "cell_type": "code",
   "execution_count": 5,
   "metadata": {},
   "outputs": [],
   "source": [
    "import json"
   ]
  },
  {
   "cell_type": "code",
   "execution_count": null,
   "metadata": {},
   "outputs": [],
   "source": [
    "simba = get_simba_instance(\n",
    "    'https://api.simbachain.com/v1/libSimba-SimbaChat-Quorum/',\n",
    "    wallet,\n",
    "    '04d1729f7144873851a745d2ae85639f55c8e3de5aea626a2bcd0055c01ba6fc',\n",
    "    '')\n",
    "\n",
    "balance = simba.get_balance()\n",
    "print(\"Balance: {}\".format(json.dumps(balance)))"
   ]
  },
  {
   "cell_type": "code",
   "execution_count": 7,
   "metadata": {},
   "outputs": [],
   "source": [
    "method_params = {\n",
    "    'assetId': \"0xbad65ff688a28efdd17d979c12f0ab2e2de305dbc8a2aa6be45ed644da822cfb\",\n",
    "    'name': \"A Test Room\",\n",
    "    'createdBy': \"PyLibSIMBA\",\n",
    "}"
   ]
  },
  {
   "cell_type": "code",
   "execution_count": 8,
   "metadata": {},
   "outputs": [],
   "source": [
    "resp = simba.call_method('createRoom', method_params)\n"
   ]
  },
  {
   "cell_type": "code",
   "execution_count": 9,
   "metadata": {},
   "outputs": [
    {
     "name": "stdout",
     "output_type": "stream",
     "text": [
      "Successful? True\n"
     ]
    }
   ],
   "source": [
    "try:\n",
    "    final_resp = simba.wait_for_success_or_error(resp)\n",
    "    print(\"Successful? {}\".format(final_resp))\n",
    "\n",
    "except Exception as e1:\n",
    "    print(\"Failure! {}\".format(e1))"
   ]
  },
  {
   "cell_type": "code",
   "execution_count": null,
   "metadata": {},
   "outputs": [],
   "source": []
  }
 ],
 "metadata": {
  "kernelspec": {
   "display_name": "Python 3",
   "language": "python",
   "name": "python3"
  },
  "language_info": {
   "codemirror_mode": {
    "name": "ipython",
    "version": 3
   },
   "file_extension": ".py",
   "mimetype": "text/x-python",
   "name": "python",
   "nbconvert_exporter": "python",
   "pygments_lexer": "ipython3",
   "version": "3.7.3"
  }
 },
 "nbformat": 4,
 "nbformat_minor": 4
}
