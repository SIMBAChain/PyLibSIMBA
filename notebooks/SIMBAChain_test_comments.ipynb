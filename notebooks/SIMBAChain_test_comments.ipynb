{
 "cells": [
  {
   "cell_type": "markdown",
   "metadata": {},
   "source": [
    "# Welcome to the PyLibSIMBA walkthrough\n"
   ]
  },
  {
   "cell_type": "markdown",
   "metadata": {},
   "source": [
    "We will go through the simple steps it takes to submit a message to a blockchain, and verify the message arrived."
   ]
  },
  {
   "cell_type": "markdown",
   "metadata": {},
   "source": [
    "## First lets import PyLibSIMBA\n",
    "\n",
    "This is already installed in the notebook so we can do"
   ]
  },
  {
   "cell_type": "code",
   "execution_count": null,
   "metadata": {
    "pycharm": {
     "is_executing": false
    }
   },
   "outputs": [],
   "source": [
    "import pylibsimba\n"
   ]
  },
  {
   "cell_type": "markdown",
   "metadata": {},
   "source": [
    "## Test 1 - Generate a Wallet\n",
    "\n",
    "This holds the public and private keys used to sign a transaction, and creates an address to send the transactions from.\n",
    "\n",
    "We will import a helper class and generate a wallet.\n",
    "\n",
    "### Advanced usage:\n",
    "\n",
    "If you create a contract on simbachain.com which uses a blockchain which requires currency, ensure that a wallet with\n",
    " that address has the correct balance (via their website, spigot etc), and initialise the Wallet object above with \n",
    " the mnemonic associated with that wallet. The Wallet object will then have the same address and can be used to sign \n",
    " transactions on that blockchain."
   ]
  },
  {
   "cell_type": "code",
   "execution_count": null,
   "metadata": {
    "pycharm": {
     "is_executing": false
    }
   },
   "outputs": [],
   "source": [
    "from pylibsimba.wallet import Wallet\n"
   ]
  },
  {
   "cell_type": "markdown",
   "metadata": {},
   "source": [
    "Now we can generate a wallet to use on the SIMBAChain test blockchain."
   ]
  },
  {
   "cell_type": "code",
   "execution_count": null,
   "metadata": {
    "pycharm": {
     "is_executing": false
    }
   },
   "outputs": [],
   "source": [
    "wallet = Wallet(None)\n",
    "wallet.generate_wallet('test1234')\n",
    "addr = wallet.get_address()\n",
    "print(addr)\n"
   ]
  },
  {
   "cell_type": "markdown",
   "metadata": {
    "pycharm": {
     "name": "#%% md\n"
    }
   },
   "source": [
    "## Test 2 - Get the SIMBAChain object. \n",
    "\n",
    "For the this step we need to import a few things.\n",
    "\n",
    "Specifically we need the ability to get a SIMBAChain object.\n",
    "\n",
    "Most of the outputs are in JSON format, so we import that too."
   ]
  },
  {
   "cell_type": "code",
   "execution_count": null,
   "metadata": {
    "pycharm": {
     "is_executing": false
    }
   },
   "outputs": [],
   "source": [
    "from pylibsimba import get_simba_instance\n",
    "import json\n"
   ]
  },
  {
   "cell_type": "markdown",
   "metadata": {
    "pycharm": {
     "name": "#%% md\n"
    }
   },
   "source": [
    "Now we can get a SIMBAChain instance, which is used for all interactions with the SIMBAChain API.\n",
    "\n",
    "This requires a few parameters:\n",
    "\n",
    "* url : The API URL\n",
    "\t* We'll use the test endpoint from simbachain.com\n",
    "* wallet : The Wallet to use\n",
    "\t* This is the wallet we just made above\n",
    "* api_key : (Optional) The API key\n",
    "\t* This is a test API pre generated for this example.\n",
    "\t* Please register at simbachain.com to gain the ability to create your own contracts and access them via you own \n",
    "\tAPI key.\n",
    "* management_key : (Optional) The Management API key\n",
    "\t* As for the api_key, but unused for now.\n",
    "        "
   ]
  },
  {
   "cell_type": "code",
   "execution_count": null,
   "metadata": {
    "pycharm": {
     "is_executing": false,
     "name": "#%%\n"
    }
   },
   "outputs": [],
   "source": [
    "simba = get_simba_instance(\n",
    "    'https://api.simbachain.com/v1/libSimba-SimbaChat-Quorum/',\n",
    "    wallet,\n",
    "    '04d1729f7144873851a745d2ae85639f55c8e3de5aea626a2bcd0055c01ba6fc',\n",
    "    '')\n"
   ]
  },
  {
   "cell_type": "markdown",
   "metadata": {
    "pycharm": {
     "name": "#%% md\n"
    }
   },
   "source": [
    "### Using the SIMBAChain instance\n",
    "\n",
    "Lets check the balance of our wallet. To do this we simply get_balance() from the simba instance we've just created.\n",
    "\n",
    "The output is a dict, so we'll use json to dump it to a string."
   ]
  },
  {
   "cell_type": "code",
   "execution_count": null,
   "metadata": {
    "pycharm": {
     "is_executing": false,
     "name": "#%%\n"
    }
   },
   "outputs": [],
   "source": [
    "balance = simba.get_balance()\n",
    "print(\"Balance: {}\".format(json.dumps(balance, indent=4)))\n"
   ]
  },
  {
   "cell_type": "markdown",
   "metadata": {
    "pycharm": {
     "name": "#%% md\n"
    }
   },
   "source": [
    "The output shows the balance as -1, but we can also see that ```\"poa\": true``` meaning this is a Proof of Authority \n",
    "blockchain, so no currency is required.\n"
   ]
  },
  {
   "cell_type": "markdown",
   "metadata": {
    "pycharm": {
     "name": "#%% md\n"
    }
   },
   "source": [
    "## Test 3 - Calling a method on a Smart Contract via SIMBAChain.com\n",
    "\n",
    "First, we need the parameters to call the method with.\n",
    "\n",
    "As it's an example method, the params are given below. (We'll look at how to get the paramters for a different method later)"
   ]
  },
  {
   "cell_type": "code",
   "execution_count": null,
   "metadata": {
    "pycharm": {
     "is_executing": false,
     "name": "#%%\n"
    }
   },
   "outputs": [],
   "source": [
    "method_params = {\n",
    "    'assetId': \"0xbad65ff688a28efdd17d979c12f0ab2e2de305dbc8a2aa6be45ed644da822cfb\",\n",
    "    'name': \"A Test Room\",\n",
    "    'createdBy': \"PyLibSIMBA\",\n",
    "}\n"
   ]
  },
  {
   "cell_type": "markdown",
   "metadata": {
    "pycharm": {
     "name": "#%% md\n"
    }
   },
   "source": [
    "Call the method with the parameters. That's it!\n"
   ]
  },
  {
   "cell_type": "code",
   "execution_count": null,
   "metadata": {
    "pycharm": {
     "is_executing": false,
     "name": "#%%\n"
    }
   },
   "outputs": [],
   "source": [
    "resp = simba.call_method('createRoom', method_params)\n",
    "print(\"Successful submitting? {}\".format(resp.transaction_id))\n"
   ]
  },
  {
   "cell_type": "markdown",
   "metadata": {
    "pycharm": {
     "name": "#%% md\n"
    }
   },
   "source": [
    "### Did it work?\n",
    "\n",
    "There is a delay between submitting a transaction, and it appearing on the blockchain.\n",
    "\n",
    "We have the option to \"send and forget\", or check to see if it has \"deployed\" successfully. \n",
    "\n",
    "To be completely sure, we can run wait_for_success_or_error() to check. \n",
    "\n",
    "Be aware this can take some time, and a variety of errors can be thrown if a problem is detected. Please check the documentation on Exceptions to learn about the types of errors caught by the PyLibSIMBA SDK."
   ]
  },
  {
   "cell_type": "code",
   "execution_count": null,
   "metadata": {
    "pycharm": {
     "is_executing": false,
     "name": "#%%\n"
    }
   },
   "outputs": [],
   "source": [
    "try:\n",
    "    final_resp = simba.wait_for_success_or_error(resp.transaction_id)\n",
    "    print(\"Successful? {}\".format(final_resp))\n",
    "\n",
    "except Exception as e1:\n",
    "    print(\"Failure! {}\".format(e1))\n"
   ]
  },
  {
   "cell_type": "markdown",
   "metadata": {
    "pycharm": {
     "name": "#%% md\n"
    }
   },
   "source": [
    "## Test 4 - Calling a method and submitting files\n",
    "\n",
    "Similar to above, we need some method parameters, and we'll add some files too."
   ]
  },
  {
   "cell_type": "code",
   "execution_count": null,
   "metadata": {
    "pycharm": {
     "is_executing": false,
     "name": "#%%\n"
    }
   },
   "outputs": [],
   "source": [
    "method_params = {\n",
    "    'assetId': \"A Test Room\",\n",
    "    'chatRoom': \"A Test Room\",\n",
    "    'message': \"Hello World\",\n",
    "    'sentBy': \"PyLibSIMBA\"\n",
    "}\n",
    "\n",
    "files =  [\"../tests/test_files/test file 1.txt\", \"../tests/test_files/test file 2.txt\"]\n"
   ]
  },
  {
   "cell_type": "markdown",
   "metadata": {
    "pycharm": {
     "name": "#%% md\n"
    }
   },
   "source": [
    "Instead of call_method() we use call_method_with_file()\n",
    "\n",
    "To be sure it worked, we'll add a wait again. This operation will take several seconds to complete.\n",
    "\n",
    "N.B, Ensure the files exist in the given location, or the method will return an error."
   ]
  },
  {
   "cell_type": "code",
   "execution_count": null,
   "metadata": {
    "pycharm": {
     "is_executing": true,
     "name": "#%%\n"
    }
   },
   "outputs": [],
   "source": [
    "try:\n",
    "    resp = simba.call_method_with_file('sendMessage', method_params, files)\n",
    "    print(\"Successful submitting? {}\".format(resp.transaction_id))\n",
    "\n",
    "    resp = simba.wait_for_success_or_error(resp.transaction_id)\n",
    "    print(\"Successfully deployed? {}\".format(resp))\n",
    "except Exception as e1:\n",
    "    print(\"Something went wrong: {}\".format(e1))\n"
   ]
  },
  {
   "cell_type": "code",
   "execution_count": null,
   "metadata": {
    "pycharm": {
     "is_executing": true,
     "name": "#%% bash\n"
    }
   },
   "outputs": [],
   "source": [
    "!ls ../tests\n"
   ]
  },
  {
   "cell_type": "markdown",
   "metadata": {
    "pycharm": {
     "name": "#%% md\n"
    }
   },
   "source": [
    "## Test 5 - A list of transactions for the method \"createRoom\"\n",
    "\n",
    "We can get a list of all transactions for the method \"createRoom\". \n",
    "\n",
    "The result is a PagedResponse class, which holds information about the number of results and a way to 'page' through them.\n",
    "\n",
    "We can also filter so we only see the transactions that we have created, using createdBy_exact.\n",
    "\n",
    "The output from this can be extensive and very detailed, so we'll use json.dumps() to \"pretty print\" it."
   ]
  },
  {
   "cell_type": "code",
   "execution_count": null,
   "metadata": {
    "pycharm": {
     "is_executing": true,
     "name": "#%%\n"
    }
   },
   "outputs": [],
   "source": [
    "method_params = {\n",
    "    'createdBy_exact': \"PyLibSIMBA\"\n",
    "}\n",
    "result_pages = simba.get_method_transactions('createRoom', method_params)\n",
    "\n",
    "print(\"Number of results for transaction {}: {}\".format('createRoom', result_pages.count()))\n",
    "\n",
    "print(\"Got data : \\n{}\".format(\n",
    "    json.dumps(\n",
    "        result_pages.data(), indent=4\n",
    "    )\n",
    "))\n"
   ]
  },
  {
   "cell_type": "markdown",
   "metadata": {},
   "source": [
    "## Test 6 - Get an existing example transaction object by the transaction ID.\n",
    "\n",
    "Use the example transaction ID given, or one from previous called methods above."
   ]
  },
  {
   "cell_type": "code",
   "execution_count": null,
   "metadata": {
    "pycharm": {
     "is_executing": true,
     "name": "#%%\n"
    }
   },
   "outputs": [],
   "source": [
    "transaction_id = \"97b56a4dd3ff4fe7820f46a7101f72e2\"\n",
    "txn = simba.get_transaction(transaction_id)\n",
    "\n",
    "print(\"Transaction : \\n{}\".format(\n",
    "    json.dumps(txn, indent=4)\n",
    "))\n"
   ]
  },
  {
   "cell_type": "markdown",
   "metadata": {},
   "source": [
    "## Test 7 - Get the Transaction Metadata object for an existing example, by the transaction hash.\n"
   ]
  },
  {
   "cell_type": "code",
   "execution_count": null,
   "metadata": {
    "pycharm": {
     "is_executing": true,
     "name": "#%%\n"
    }
   },
   "outputs": [],
   "source": [
    "transaction_hash = \"0x7565461be84259d5e365c2c3225696a6d74245f1eca1ecc050b1fedd5a4a1f4d\"\n",
    "txn_metadata = simba.get_bundle_metadata_for_transaction(transaction_hash)\n",
    "print(\"Transaction Metadata: \\n{}\".format(json.dumps(txn_metadata, indent=4)))\n"
   ]
  },
  {
   "cell_type": "markdown",
   "metadata": {
    "pycharm": {
     "name": "#%% md\n"
    }
   },
   "source": [
    "\n",
    "## Test 8 - Get a bundle of files from a given transaction, from the transaction hash\n",
    "Writes the bundle to \"the_bundle.zip\".\n",
    "\n",
    "This implementation sets stream=True so that the requests module doesn't download the whole bundle into memory\n",
    "first.\n",
    "\n",
    "We can also check for errors with raise_for_status()\n"
   ]
  },
  {
   "cell_type": "code",
   "execution_count": null,
   "metadata": {
    "pycharm": {
     "is_executing": true,
     "name": "#%%\n"
    }
   },
   "outputs": [],
   "source": [
    "transaction_hash = \"0x7565461be84259d5e365c2c3225696a6d74245f1eca1ecc050b1fedd5a4a1f4d\"\n",
    "req = simba.get_bundle_for_transaction(transaction_hash, stream=True)\n",
    "req.raise_for_status()\n"
   ]
  },
  {
   "cell_type": "markdown",
   "metadata": {
    "pycharm": {
     "name": "#%% md\n"
    }
   },
   "source": [
    "### Writing the \"bundle\" file to disk\n",
    "\n",
    "The bundle of files is actually a zip file with all of the files submitted in the transaction, along with some metadata used to check their validity.\n",
    "\n",
    "Writing the file is done as usual with the *python requests* package.\n",
    "\n",
    "To check the file was written to disk, we do a isfile() check\n"
   ]
  },
  {
   "cell_type": "code",
   "execution_count": null,
   "metadata": {
    "pycharm": {
     "is_executing": true,
     "name": "#%%\n"
    }
   },
   "outputs": [],
   "source": [
    "output_file = 'the_bundle.zip'\n",
    "with open('the_bundle.zip', 'wb') as f:\n",
    "    for chunk in req.iter_content(chunk_size=8192):\n",
    "        if chunk:  # filter out keep-alive new chunks\n",
    "            f.write(chunk)\n",
    "\n",
    "import os      \n",
    "print(\"Wrote file {}: {}\".format(\n",
    "    output_file,\n",
    "    os.path.isfile(os.path.abspath(output_file)))\n",
    ")\n"
   ]
  },
  {
   "cell_type": "markdown",
   "metadata": {
    "pycharm": {
     "name": "#%% md\n"
    }
   },
   "source": [
    "\n",
    "## Test 9 - Get the first file from a bundle for a given transaction, from the transaction hash\n",
    "\n",
    "Writes the file to \"file_0.txt\"\n",
    "\n",
    "Very similar to the example above, but specifying an index from the list of files submitted in the transaction.\n"
   ]
  },
  {
   "cell_type": "code",
   "execution_count": null,
   "metadata": {
    "pycharm": {
     "is_executing": true,
     "name": "#%%\n"
    }
   },
   "outputs": [],
   "source": [
    "transaction_hash = \"0x7565461be84259d5e365c2c3225696a6d74245f1eca1ecc050b1fedd5a4a1f4d\"\n",
    "\n",
    "req = simba.get_file_from_bundle_for_transaction(transaction_hash, 0, stream=True)\n",
    "req.raise_for_status()\n",
    "\n",
    "output_file = 'file_0.txt'\n",
    "with open(output_file, 'wb') as f:\n",
    "    for chunk in req.iter_content(chunk_size=8192):\n",
    "        if chunk:  # filter out keep-alive new chunks\n",
    "            f.write(chunk)\n",
    "            \n",
    "print(\"Wrote file {}: {}\".format(\n",
    "    output_file,\n",
    "    os.path.isfile(os.path.abspath(output_file)))\n",
    ")\n"
   ]
  },
  {
   "cell_type": "markdown",
   "metadata": {
    "pycharm": {
     "name": "#%% md\n"
    }
   },
   "source": [
    "## Test 10 - Get a file by name, from a bundle for a given transaction, from the transaction hash\n",
    "\n",
    "Again, as above, but getting the file by name.\n",
    "\n",
    "Writes the file to \"File1.txt\"\n"
   ]
  },
  {
   "cell_type": "code",
   "execution_count": null,
   "metadata": {
    "pycharm": {
     "is_executing": true,
     "name": "#%%\n"
    }
   },
   "outputs": [],
   "source": [
    "transaction_hash = \"0x7565461be84259d5e365c2c3225696a6d74245f1eca1ecc050b1fedd5a4a1f4d\"\n",
    "\n",
    "filename = \"File1.txt\"\n",
    "req = simba.get_file_from_bundle_by_name_for_transaction(transaction_hash, filename, stream=True)\n",
    "req.raise_for_status()\n",
    "\n",
    "output_file = 'File1.txt'\n",
    "with open(output_file, 'wb') as f:\n",
    "    for chunk in req.iter_content(chunk_size=8192):\n",
    "        if chunk:  # filter out keep-alive new chunks\n",
    "            f.write(chunk)\n",
    "            \n",
    "print(\"Wrote file \\n{}: {}\".format(\n",
    "    output_file,\n",
    "    os.path.isfile(os.path.abspath(output_file)))\n",
    ")\n"
   ]
  },
  {
   "cell_type": "markdown",
   "metadata": {},
   "source": [
    "## Test 12 - Get the organisations this user belongs to\n",
    "\n",
    "This is useful when performing more low-level API calls.\n"
   ]
  },
  {
   "cell_type": "code",
   "execution_count": null,
   "metadata": {
    "pycharm": {
     "is_executing": true,
     "name": "#%%\n"
    }
   },
   "outputs": [],
   "source": [
    "paged_response = simba.get_organisations()\n",
    "\n",
    "for org in paged_response.data():\n",
    "    print(org['id'])\n"
   ]
  },
  {
   "cell_type": "markdown",
   "metadata": {},
   "source": [
    "## Test 13 - Push arbitrary solidity code to simbachain.com\n",
    "\n",
    "The create_contract() method takes four parameters:\n",
    "\n",
    "* The simba object\n",
    "* The path to a file containing the solidity code\n",
    "* The name to call the Smart Contract. This will be shown in the dashboard.\n",
    "* An organisation id. A user can be a member of multiple organisations, so this is the organisation the Smart \n",
    "Contract will be associated with.\n",
    "\n",
    "A contract name must be unique within an organisation, so we will add a timestamp to the name so this test\n",
    "organisation will accept it.\n",
    "    "
   ]
  },
  {
   "cell_type": "code",
   "execution_count": null,
   "metadata": {
    "pycharm": {
     "is_executing": true,
     "name": "#%%\n"
    }
   },
   "outputs": [],
   "source": [
    "from _datetime import datetime\n",
    "from pylibsimba import util\n",
    "\n",
    "response = util.create_contract(\n",
    "    simba,\n",
    "    '../tests/example.sol',\n",
    "    'example_contract_{}'.format(datetime.now().isoformat()),\n",
    "    '5cd5cef4cabb4b009e00b6b3ff45ee08'\n",
    ")\n",
    "print(\"Wrote contract : \\n{}\".format(\n",
    "    json.dumps(response.json(), indent=4)\n",
    "))\n"
   ]
  },
  {
   "cell_type": "markdown",
   "metadata": {
    "pycharm": {
     "name": "#%% md\n"
    }
   },
   "source": [
    "## Get in touch!\n",
    "\n",
    "If you have any issues with the demo above, please let us know via the GitHub issues pages, <https://github.com/SIMBAChain/PyLibSIMBA/issues>"
   ]
  }
 ],
 "metadata": {
  "kernelspec": {
   "display_name": "Python 3",
   "language": "python",
   "name": "python3"
  },
  "language_info": {
   "codemirror_mode": {
    "name": "ipython",
    "version": 3
   },
   "file_extension": ".py",
   "mimetype": "text/x-python",
   "name": "python",
   "nbconvert_exporter": "python",
   "pygments_lexer": "ipython3",
   "version": "3.7.3"
  },
  "pycharm": {
   "stem_cell": {
    "cell_type": "raw",
    "metadata": {
     "collapsed": false
    },
    "source": []
   }
  }
 },
 "nbformat": 4,
 "nbformat_minor": 4
}