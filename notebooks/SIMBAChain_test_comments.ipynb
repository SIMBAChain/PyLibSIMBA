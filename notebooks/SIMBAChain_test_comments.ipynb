{
 "cells": [
  {
   "cell_type": "markdown",
   "metadata": {},
   "source": [
    "# Welcome to the PyLibSIMBA walkthrough\n"
   ]
  },
  {
   "cell_type": "markdown",
   "metadata": {},
   "source": [
    "We will go through the simple steps it takes to submit a message to a blockchain, and verify the message arrived"
   ]
  },
  {
   "cell_type": "markdown",
   "metadata": {},
   "source": [
    "## First lets import pylibsimba\n",
    "\n",
    "This is already installed in the notebook so we can do"
   ]
  },
  {
   "cell_type": "code",
   "execution_count": 1,
   "metadata": {},
   "outputs": [],
   "source": [
    "import pylibsimba"
   ]
  },
  {
   "cell_type": "markdown",
   "metadata": {},
   "source": [
    "## Next we need a Wallet\n",
    "\n",
    "This holds the public and private keys used to sign a transaction, and creates an address to send the transactions from.\n",
    "\n",
    "We will import a helper class and generate a wallet."
   ]
  },
  {
   "cell_type": "code",
   "execution_count": 2,
   "metadata": {},
   "outputs": [],
   "source": [
    "from pylibsimba.wallet import Wallet\n"
   ]
  },
  {
   "cell_type": "markdown",
   "metadata": {},
   "source": [
    "We can generate a wallet to use on the SIMBAChain test blockchain."
   ]
  },
  {
   "cell_type": "code",
   "execution_count": 3,
   "metadata": {
    "collapsed": false
   },
   "outputs": [
    {
     "name": "stdout",
     "output_type": "stream",
     "text": [
      "0xc341e8e093f44d9149e20f39317da93def0dd02b\n"
     ]
    }
   ],
   "source": [
    "wallet = Wallet(None)\n",
    "wallet.generate_wallet('test1234')\n",
    "addr = wallet.get_address()\n",
    "print(addr)"
   ]
  },
  {
   "cell_type": "markdown",
   "source": [
    "## Import a few things\n",
    "\n",
    "Specifically we need the ability to get a SIMBAChain object.\n",
    "\n",
    "Most of the outputs are in JSON format, so we import that too."
   ],
   "metadata": {
    "collapsed": false,
    "pycharm": {
     "name": "#%% md\n"
    }
   }
  },
  {
   "cell_type": "code",
   "execution_count": 4,
   "metadata": {},
   "outputs": [],
   "source": [
    "from pylibsimba import get_simba_instance\n",
    "import json"
   ]
  },
  {
   "cell_type": "markdown",
   "metadata": {
    "pycharm": {
     "name": "#%% md\n"
    }
   },
   "source": [
    "Get the SIMBAChain object. This requires a few parameters\n",
    "\n",
    "* url : The API URL\n",
    "\t* We'll use the test from simbachain.com\n",
    "* wallet : The Wallet to use\n",
    "\t* This is the wallet we just made above\n",
    "* api_key : (Optional) The API key\n",
    "\t* This is a test API pre generated for this example.\n",
    "\t* Please register at simbachain.com to gain the ability to create your own contracts and access them via you own \n",
    "\tAPI key.\n",
    "* management_key : (Optional) The Management API key\n",
    "\t* As for the api_key, but unused for now.\n",
    "        "
   ]
  },
  {
   "cell_type": "code",
   "execution_count": null,
   "outputs": [],
   "source": [
    "simba = get_simba_instance(\n",
    "    'https://api.simbachain.com/v1/libSimba-SimbaChat-Quorum/',\n",
    "    wallet,\n",
    "    '04d1729f7144873851a745d2ae85639f55c8e3de5aea626a2bcd0055c01ba6fc',\n",
    "    '')"
   ],
   "metadata": {
    "collapsed": false,
    "pycharm": {
     "name": "#%%\n"
    }
   }
  },
  {
   "cell_type": "markdown",
   "source": [
    "Lets check the balance of our wallet. To do this we simply get_balance() from the simba instance we've just created.\n",
    "\n",
    "The output is a dict, so we'll use json to dump it to a string."
   ],
   "metadata": {
    "collapsed": false,
    "pycharm": {
     "name": "#%% md\n"
    }
   }
  },
  {
   "cell_type": "code",
   "execution_count": null,
   "outputs": [],
   "source": [
    "balance = simba.get_balance()\n",
    "print(\"Balance: {}\".format(json.dumps(balance)))"
   ],
   "metadata": {
    "collapsed": false,
    "pycharm": {
     "name": "#%%\n"
    }
   }
  },
  {
   "cell_type": "markdown",
   "metadata": {
    "pycharm": {
     "name": "#%% md\n"
    }
   },
   "source": [
    "## Calling a method on a Smart Contract on SIMBAChain.com\n",
    "\n",
    "First, we need the parameters to call the method with.\n",
    "\n",
    "As it's an example method, the params are given below. (We'll look at how to get the paramters for a different method later)"
   ]
  },
  {
   "cell_type": "code",
   "execution_count": null,
   "outputs": [],
   "source": [
    "method_params = {\n",
    "    'assetId': \"0xbad65ff688a28efdd17d979c12f0ab2e2de305dbc8a2aa6be45ed644da822cfb\",\n",
    "    'name': \"A Test Room\",\n",
    "    'createdBy': \"PyLibSIMBA\",\n",
    "}"
   ],
   "metadata": {
    "collapsed": false,
    "pycharm": {
     "name": "#%%\n"
    }
   }
  },
  {
   "cell_type": "markdown",
   "metadata": {
    "pycharm": {
     "name": "#%% md\n"
    }
   },
   "source": [
    "Call the method with the parameters.\n",
    "\n",
    "That's it!\n"
   ]
  },
  {
   "cell_type": "code",
   "execution_count": null,
   "outputs": [],
   "source": [
    "resp = simba.call_method('createRoom', method_params)\n",
    "print(\"Successful submitting? {}\".format(resp))"
   ],
   "metadata": {
    "collapsed": false,
    "pycharm": {
     "name": "#%%\n"
    }
   }
  },
  {
   "cell_type": "markdown",
   "metadata": {
    "collapsed": false,
    "pycharm": {
     "name": "#%% md\n"
    }
   },
   "source": [
    "## Did it work?\n",
    "\n",
    "There is a delay between submitting a transaction, and it appearing on the blockchain.\n",
    "\n",
    "We have the option to \"send and forget\", or check to see if it has \"deployed\" successfully. \n",
    "\n",
    "To be completely sure, we can run wait_for_success_or_error() to check. \n",
    "\n",
    "Be aware this can take some time, and a variety of errors can be thrown if a problem is detected. Please check the documentation on Exceptions to learn about the types of errors caught by the PyLibSIMBA SDK."
   ]
  },
  {
   "cell_type": "code",
   "execution_count": null,
   "outputs": [],
   "source": [
    "try:\n",
    "    final_resp = simba.wait_for_success_or_error(resp)\n",
    "    print(\"Successful? {}\".format(final_resp))\n",
    "\n",
    "except Exception as e1:\n",
    "    print(\"Failure! {}\".format(e1))"
   ],
   "metadata": {
    "collapsed": false,
    "pycharm": {
     "name": "#%%\n"
    }
   }
  },
  {
   "cell_type": "markdown",
   "metadata": {
    "pycharm": {
     "name": "#%% md\n"
    }
   },
   "source": [
    "## Test 4 - Calling a method and submitting files\n",
    "\n",
    "Similar to above, we need some method parameters, and we'll add some files too."
   ]
  },
  {
   "cell_type": "code",
   "execution_count": null,
   "outputs": [],
   "source": [
    "method_params = {\n",
    "\t'assetId': \"A Test Room\",\n",
    "\t'chatRoom': \"A Test Room\",\n",
    "\t'message': \"Hello World\",\n",
    "\t'sentBy': \"PyLibSIMBA\"\n",
    "}\n",
    "\n",
    "files = [\"test_files/test file 1.txt\",\n",
    "\t\t \"test_files/test file 2.txt\"]"
   ],
   "metadata": {
    "collapsed": false,
    "pycharm": {
     "name": "#%%\n"
    }
   }
  },
  {
   "cell_type": "markdown",
   "source": [
    "Instead of call_method() we use call_method_with_file()\n",
    "\n",
    "To be sure it worked, we'll wait again."
   ],
   "metadata": {
    "collapsed": false,
    "pycharm": {
     "name": "#%% md\n"
    }
   }
  },
  {
   "cell_type": "code",
   "execution_count": null,
   "outputs": [],
   "source": [
    "resp = simba.call_method_with_file('sendMessage', method_params, files)\n",
    "print(\"Successful submitting? {}\".format(resp))\n",
    "\n",
    "resp = simba.wait_for_success_or_error(resp)\n",
    "print(\"Successfully deployed? {}\".format(resp))"
   ],
   "metadata": {
    "collapsed": false,
    "pycharm": {
     "name": "#%%\n"
    }
   }
  }
 ],
 "metadata": {
  "kernelspec": {
   "display_name": "Python 3",
   "language": "python",
   "name": "python3"
  },
  "language_info": {
   "codemirror_mode": {
    "name": "ipython",
    "version": 3
   },
   "file_extension": ".py",
   "mimetype": "text/x-python",
   "name": "python",
   "nbconvert_exporter": "python",
   "pygments_lexer": "ipython3",
   "version": "3.7.3"
  },
  "pycharm": {
   "stem_cell": {
    "cell_type": "raw",
    "source": [],
    "metadata": {
     "collapsed": false
    }
   }
  }
 },
 "nbformat": 4,
 "nbformat_minor": 4
}